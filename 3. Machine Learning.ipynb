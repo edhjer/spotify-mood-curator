{
 "cells": [
  {
   "cell_type": "markdown",
   "metadata": {},
   "source": [
    "# Machine Learning"
   ]
  },
  {
   "cell_type": "code",
   "execution_count": 1,
   "metadata": {},
   "outputs": [],
   "source": [
    "import pandas as pd #Dataframe, Series\n",
    "import numpy as np\n",
    "\n",
    "from sklearn import tree\n",
    "\n",
    "from sklearn.model_selection import train_test_split\n",
    "from sklearn.metrics import accuracy_score\n",
    "\n",
    "import warnings\n",
    "warnings.filterwarnings(\"ignore\")\n",
    "%matplotlib inline"
   ]
  },
  {
   "cell_type": "code",
   "execution_count": 2,
   "metadata": {},
   "outputs": [],
   "source": [
    "#Read in data from collection and cleaning\n",
    "df = pd.read_csv('clean_data3.csv')"
   ]
  },
  {
   "cell_type": "code",
   "execution_count": 3,
   "metadata": {},
   "outputs": [],
   "source": [
    "#Get rid of unecessay first column\n",
    "df = df.drop(columns='Unnamed: 0')"
   ]
  },
  {
   "cell_type": "markdown",
   "metadata": {},
   "source": [
    "Based on the previous section, the best features to train our model are most likely: danceability, valence, energy, and loudness. This is because there is some apparent difference between happy and sad songs within each of these features. "
   ]
  },
  {
   "cell_type": "code",
   "execution_count": 4,
   "metadata": {},
   "outputs": [],
   "source": [
    "features = [\"danceability\", \"valence\", \"energy\", \"loudness\"]"
   ]
  },
  {
   "cell_type": "code",
   "execution_count": 5,
   "metadata": {},
   "outputs": [
    {
     "name": "stdout",
     "output_type": "stream",
     "text": [
      "Training size: 621, Test size: 69\n"
     ]
    }
   ],
   "source": [
    "trainingData = df\n",
    "train, test = train_test_split(trainingData, test_size=0.10)\n",
    "print(\"Training size: {}, Test size: {}\".format(len(train), len(test)))"
   ]
  },
  {
   "cell_type": "code",
   "execution_count": 6,
   "metadata": {},
   "outputs": [],
   "source": [
    "x_train = train[features]\n",
    "y_train = train[\"Sad/Happy\"]\n",
    "\n",
    "x_test = test[features]\n",
    "y_test = test[\"Sad/Happy\"]"
   ]
  },
  {
   "cell_type": "markdown",
   "metadata": {},
   "source": [
    "## Models on models..."
   ]
  },
  {
   "cell_type": "code",
   "execution_count": 7,
   "metadata": {},
   "outputs": [
    {
     "name": "stdout",
     "output_type": "stream",
     "text": [
      "Accuracy using Decision Tree:  56.5 %\n"
     ]
    }
   ],
   "source": [
    "from sklearn.tree import DecisionTreeClassifier\n",
    "dt = DecisionTreeClassifier(min_samples_split=29)\n",
    "dt.fit(x_train, y_train)\n",
    "y_pred = dt.predict(x_test)\n",
    "score = accuracy_score(y_test, y_pred) * 100\n",
    "print(\"Accuracy using Decision Tree: \", round(score,1), \"%\")"
   ]
  },
  {
   "cell_type": "code",
   "execution_count": 8,
   "metadata": {},
   "outputs": [
    {
     "name": "stdout",
     "output_type": "stream",
     "text": [
      "Accuracy using 20-Knn Tree:  62.3 %\n"
     ]
    }
   ],
   "source": [
    "from sklearn.neighbors import KNeighborsClassifier\n",
    "k = 20\n",
    "knn = KNeighborsClassifier(k)\n",
    "knn.fit(x_train, y_train)\n",
    "knn_pred = knn.predict(x_test)\n",
    "score = accuracy_score(y_test, knn_pred) * 100\n",
    "print(\"Accuracy using %d-Knn Tree: \" %k, round(score, 1), \"%\")"
   ]
  },
  {
   "cell_type": "code",
   "execution_count": 9,
   "metadata": {},
   "outputs": [
    {
     "name": "stdout",
     "output_type": "stream",
     "text": [
      "Accuracy using random forest:  73.9 %\n"
     ]
    }
   ],
   "source": [
    "from sklearn.ensemble import RandomForestClassifier\n",
    "forest = RandomForestClassifier(max_depth=9, n_estimators=49, max_features=1)\n",
    "forest.fit(x_train, y_train)\n",
    "forest_pred = forest.predict(x_test)\n",
    "from sklearn.metrics import accuracy_score\n",
    "score = accuracy_score(y_test, forest_pred) * 100\n",
    "print(\"Accuracy using random forest: \", round(score, 1), \"%\")"
   ]
  },
  {
   "cell_type": "code",
   "execution_count": 10,
   "metadata": {},
   "outputs": [
    {
     "name": "stdout",
     "output_type": "stream",
     "text": [
      "Accuracy using ada:  69.6 %\n"
     ]
    }
   ],
   "source": [
    "from sklearn.ensemble import AdaBoostClassifier\n",
    "ada = AdaBoostClassifier(n_estimators=70)\n",
    "ada.fit(x_train, y_train)\n",
    "ada_pred = ada.predict(x_test)\n",
    "from sklearn.metrics import accuracy_score\n",
    "score = accuracy_score(y_test, ada_pred) * 100\n",
    "print(\"Accuracy using ada: \", round(score, 1), \"%\")"
   ]
  },
  {
   "cell_type": "code",
   "execution_count": 11,
   "metadata": {},
   "outputs": [
    {
     "name": "stdout",
     "output_type": "stream",
     "text": [
      "Accuracy using gauss:  71.0 %\n"
     ]
    }
   ],
   "source": [
    "from sklearn.naive_bayes import GaussianNB\n",
    "gauss = GaussianNB()\n",
    "gauss.fit(x_train, y_train)\n",
    "gauss_pred = gauss.predict(x_test)\n",
    "score = accuracy_score(y_test, gauss_pred)*100\n",
    "print(\"Accuracy using gauss: \", round(score, 1), \"%\")"
   ]
  },
  {
   "cell_type": "code",
   "execution_count": 12,
   "metadata": {},
   "outputs": [
    {
     "name": "stdout",
     "output_type": "stream",
     "text": [
      "Accuracy using Gbc:  69.6 %\n"
     ]
    }
   ],
   "source": [
    "from sklearn.ensemble import GradientBoostingClassifier\n",
    "gbc = GradientBoostingClassifier(n_estimators=80, learning_rate=1, max_depth=1, random_state=0)\n",
    "gbc.fit(x_train, y_train)\n",
    "predicted = gbc.predict(x_test)\n",
    "score = accuracy_score(y_test, predicted)*100\n",
    "print(\"Accuracy using Gbc: \", round(score, 1), \"%\")"
   ]
  },
  {
   "cell_type": "markdown",
   "metadata": {},
   "source": [
    "## Tweaking the GBC parameters\n",
    "\n",
    "Now that we have our best performing model (for me the most consistently accurate was GBC), let's see if we can improve its accuracy even more by adjusting the n_estimators and learning_rate. "
   ]
  },
  {
   "cell_type": "code",
   "execution_count": 13,
   "metadata": {},
   "outputs": [],
   "source": [
    "from sklearn.model_selection import cross_val_score\n",
    "from sklearn.preprocessing import StandardScaler\n",
    "from sklearn.ensemble import GradientBoostingClassifier\n",
    "from sklearn.metrics import *\n",
    "from sklearn.pipeline import Pipeline"
   ]
  },
  {
   "cell_type": "markdown",
   "metadata": {},
   "source": [
    "### Model Parameters: ###\n",
    "- **learning rate**: shrinks the contribution of each tree by learning_rate. There is a trade-off between learning_rate and n_estimators.\n",
    "- **n_estimators**: The number of boosting stages to perform. Gradient boosting is fairly robust to over-fitting so a large number usually results in better performance."
   ]
  },
  {
   "cell_type": "code",
   "execution_count": 15,
   "metadata": {},
   "outputs": [],
   "source": [
    "def test_gbc(n, lr, x_train, y_train, x_test, y_test):\n",
    "    model =  GradientBoostingClassifier(n_estimators=n,learning_rate=lr, max_depth=1, random_state=1)\n",
    "    model.fit(x_train, y_train)\n",
    "    model_pred = model.predict(x_test)\n",
    "    score = accuracy_score(y_test, model_pred)\n",
    "    return score"
   ]
  },
  {
   "cell_type": "code",
   "execution_count": 18,
   "metadata": {},
   "outputs": [],
   "source": [
    "from sklearn.ensemble import GradientBoostingClassifier\n",
    "from sklearn.metrics import accuracy_score\n",
    "accuracys = []\n",
    "n_vals = range(2,200)\n",
    "lr_vals =  np.arange(0.1,1, 0.01)\n",
    "for n in lr_vals:\n",
    "    score = test_gbc(50, n, x_train, y_train, x_test, y_test)\n",
    "    accuracys.append(score)\n",
    "acc_series = pd.Series(accuracys, index=lr_vals)\n"
   ]
  },
  {
   "cell_type": "markdown",
   "metadata": {},
   "source": [
    "We see that a value of 50 maximizes for n_estimators maximizes our accuracy. Now let's see how the learning rate will effect accuracy."
   ]
  },
  {
   "cell_type": "code",
   "execution_count": 21,
   "metadata": {},
   "outputs": [
    {
     "data": {
      "text/plain": [
       "0.24    0.724638\n",
       "0.30    0.724638\n",
       "0.26    0.724638\n",
       "0.25    0.724638\n",
       "0.10    0.710145\n",
       "dtype: float64"
      ]
     },
     "execution_count": 21,
     "metadata": {},
     "output_type": "execute_result"
    },
    {
     "data": {
      "image/png": "[encoded data removed]",
      "text/plain": [
       "<Figure size 432x288 with 1 Axes>"
      ]
     },
     "metadata": {
      "needs_background": "light"
     },
     "output_type": "display_data"
    }
   ],
   "source": [
    "acc_series.plot.line()\n",
    "acc_series.sort_values(ascending=False)[:.1]"
   ]
  },
  {
   "cell_type": "markdown",
   "metadata": {},
   "source": [
    "As seen in the graph below, a learning rate of 0.24 maximizes our accuracy for n_estimators=50. It appears that once the learning rate reaches beyond 0.8, the accuracy actually starts to go down. This suggests that learning rate is a very sensitive parameter to adjust. "
   ]
  },
  {
   "cell_type": "code",
   "execution_count": 24,
   "metadata": {},
   "outputs": [
    {
     "data": {
      "text/plain": [
       "0.24    0.724638\n",
       "0.30    0.724638\n",
       "0.26    0.724638\n",
       "0.25    0.724638\n",
       "0.10    0.710145\n",
       "dtype: float64"
      ]
     },
     "execution_count": 24,
     "metadata": {},
     "output_type": "execute_result"
    },
    {
     "data": {
      "image/png": "[encoded data removed]",
      "text/plain": [
       "<Figure size 432x288 with 1 Axes>"
      ]
     },
     "metadata": {
      "needs_background": "light"
     },
     "output_type": "display_data"
    }
   ],
   "source": [
    "accuracys = []\n",
    "for n in np.arange(0.1, 1,0.01):\n",
    "    forest =  GradientBoostingClassifier(n_estimators=50, learning_rate=n, max_depth=1, random_state=1)\n",
    "    forest.fit(x_train, y_train)\n",
    "    forest_pred = forest.predict(x_test)\n",
    "    score = accuracy_score(y_test, forest_pred)\n",
    "    accuracys.append(score)\n",
    "    \n",
    "acc_series = pd.Series(accuracys, index=np.arange(0.1,1,0.01))\n",
    "acc_series.plot.line()\n",
    "acc_series.sort_values(ascending=False)[:.1]"
   ]
  },
  {
   "cell_type": "markdown",
   "metadata": {},
   "source": [
    "# Does our Model Work?"
   ]
  },
  {
   "cell_type": "markdown",
   "metadata": {},
   "source": [
    "Let's see if we can actually predict the emotional sentiment of a brand new set of songs!"
   ]
  },
  {
   "cell_type": "code",
   "execution_count": 25,
   "metadata": {},
   "outputs": [
    {
     "name": "stdout",
     "output_type": "stream",
     "text": [
      "Accuracy using GBC:  72.5 %\n"
     ]
    }
   ],
   "source": [
    "#Our best model is GBC.\n",
    "model = GradientBoostingClassifier(n_estimators=50, learning_rate=0.24, max_depth=1, random_state=1)\n",
    "\n",
    "model.fit(x_train, y_train)\n",
    "y_pred = model.predict(x_test)\n",
    "score = accuracy_score(y_test, y_pred) * 100\n",
    "print(\"Accuracy using GBC: \", round(score,1), \"%\")"
   ]
  },
  {
   "cell_type": "markdown",
   "metadata": {},
   "source": [
    "### Using our model to classify a new list of songs as either Happy or Sad..."
   ]
  },
  {
   "cell_type": "code",
   "execution_count": 26,
   "metadata": {},
   "outputs": [
    {
     "data": {
      "text/html": [
       "<div>\n",
       "<style scoped>\n",
       "    .dataframe tbody tr th:only-of-type {\n",
       "        vertical-align: middle;\n",
       "    }\n",
       "\n",
       "    .dataframe tbody tr th {\n",
       "        vertical-align: top;\n",
       "    }\n",
       "\n",
       "    .dataframe thead th {\n",
       "        text-align: right;\n",
       "    }\n",
       "</style>\n",
       "<table border=\"1\" class=\"dataframe\">\n",
       "  <thead>\n",
       "    <tr style=\"text-align: right;\">\n",
       "      <th></th>\n",
       "      <th>Name</th>\n",
       "      <th>Title</th>\n",
       "      <th>Artist</th>\n",
       "      <th>Sad/Happy</th>\n",
       "      <th>parent</th>\n",
       "      <th>album</th>\n",
       "      <th>artists</th>\n",
       "      <th>available_markets</th>\n",
       "      <th>disc_number</th>\n",
       "      <th>duration_ms</th>\n",
       "      <th>...</th>\n",
       "      <th>mode</th>\n",
       "      <th>speechiness</th>\n",
       "      <th>acousticness</th>\n",
       "      <th>instrumentalness</th>\n",
       "      <th>liveness</th>\n",
       "      <th>valence</th>\n",
       "      <th>tempo</th>\n",
       "      <th>track_href</th>\n",
       "      <th>analysis_url</th>\n",
       "      <th>time_signature</th>\n",
       "    </tr>\n",
       "  </thead>\n",
       "  <tbody>\n",
       "    <tr>\n",
       "      <th>0</th>\n",
       "      <td>Jeremy</td>\n",
       "      <td>Human Sadness</td>\n",
       "      <td>The Voidz</td>\n",
       "      <td>NaN</td>\n",
       "      <td>NaN</td>\n",
       "      <td>{'album_type': 'album', 'artists': [{'external...</td>\n",
       "      <td>[{'external_urls': {'spotify': 'https://open.s...</td>\n",
       "      <td>['AD', 'AE', 'AR', 'AT', 'AU', 'BE', 'BG', 'BH...</td>\n",
       "      <td>1</td>\n",
       "      <td>656836</td>\n",
       "      <td>...</td>\n",
       "      <td>1</td>\n",
       "      <td>0.0469</td>\n",
       "      <td>0.220000</td>\n",
       "      <td>0.80800</td>\n",
       "      <td>0.1130</td>\n",
       "      <td>0.132</td>\n",
       "      <td>121.623</td>\n",
       "      <td>https://api.spotify.com/v1/tracks/2avCzL6HtaJ5...</td>\n",
       "      <td>https://api.spotify.com/v1/audio-analysis/2avC...</td>\n",
       "      <td>4</td>\n",
       "    </tr>\n",
       "    <tr>\n",
       "      <th>1</th>\n",
       "      <td>Jeremy</td>\n",
       "      <td>Trailer Trash</td>\n",
       "      <td>Modest Mouse</td>\n",
       "      <td>NaN</td>\n",
       "      <td>NaN</td>\n",
       "      <td>{'album_type': 'album', 'artists': [{'external...</td>\n",
       "      <td>[{'external_urls': {'spotify': 'https://open.s...</td>\n",
       "      <td>['AD', 'AE', 'AR', 'AT', 'BE', 'BG', 'BH', 'BO...</td>\n",
       "      <td>1</td>\n",
       "      <td>349600</td>\n",
       "      <td>...</td>\n",
       "      <td>1</td>\n",
       "      <td>0.0347</td>\n",
       "      <td>0.076400</td>\n",
       "      <td>0.00522</td>\n",
       "      <td>0.0618</td>\n",
       "      <td>0.714</td>\n",
       "      <td>163.619</td>\n",
       "      <td>https://api.spotify.com/v1/tracks/0WkhmPY4bLSi...</td>\n",
       "      <td>https://api.spotify.com/v1/audio-analysis/0Wkh...</td>\n",
       "      <td>4</td>\n",
       "    </tr>\n",
       "    <tr>\n",
       "      <th>2</th>\n",
       "      <td>Jeremy</td>\n",
       "      <td>Heroes</td>\n",
       "      <td>David Bowie</td>\n",
       "      <td>NaN</td>\n",
       "      <td>NaN</td>\n",
       "      <td>{'album_type': 'album', 'artists': [{'external...</td>\n",
       "      <td>[{'external_urls': {'spotify': 'https://open.s...</td>\n",
       "      <td>['AD', 'AE', 'AR', 'AT', 'AU', 'BE', 'BG', 'BH...</td>\n",
       "      <td>1</td>\n",
       "      <td>371413</td>\n",
       "      <td>...</td>\n",
       "      <td>1</td>\n",
       "      <td>0.0297</td>\n",
       "      <td>0.000671</td>\n",
       "      <td>0.48400</td>\n",
       "      <td>0.0920</td>\n",
       "      <td>0.435</td>\n",
       "      <td>112.114</td>\n",
       "      <td>https://api.spotify.com/v1/tracks/7Jh1bpe76CNT...</td>\n",
       "      <td>https://api.spotify.com/v1/audio-analysis/7Jh1...</td>\n",
       "      <td>4</td>\n",
       "    </tr>\n",
       "    <tr>\n",
       "      <th>3</th>\n",
       "      <td>Jeremy</td>\n",
       "      <td>I’m so lonesome I could cry</td>\n",
       "      <td>Hank Williams</td>\n",
       "      <td>NaN</td>\n",
       "      <td>NaN</td>\n",
       "      <td>{'album_type': 'album', 'artists': [{'external...</td>\n",
       "      <td>[{'external_urls': {'spotify': 'https://open.s...</td>\n",
       "      <td>['CA', 'MX', 'US']</td>\n",
       "      <td>1</td>\n",
       "      <td>169067</td>\n",
       "      <td>...</td>\n",
       "      <td>1</td>\n",
       "      <td>0.0304</td>\n",
       "      <td>0.812000</td>\n",
       "      <td>0.00236</td>\n",
       "      <td>0.3440</td>\n",
       "      <td>0.369</td>\n",
       "      <td>112.033</td>\n",
       "      <td>https://api.spotify.com/v1/tracks/4tj7IsJrn4Mv...</td>\n",
       "      <td>https://api.spotify.com/v1/audio-analysis/4tj7...</td>\n",
       "      <td>3</td>\n",
       "    </tr>\n",
       "    <tr>\n",
       "      <th>4</th>\n",
       "      <td>Jeremy</td>\n",
       "      <td>Pale Blue Eyes</td>\n",
       "      <td>The Velvet Underground</td>\n",
       "      <td>NaN</td>\n",
       "      <td>NaN</td>\n",
       "      <td>{'album_type': 'album', 'artists': [{'external...</td>\n",
       "      <td>[{'external_urls': {'spotify': 'https://open.s...</td>\n",
       "      <td>['CA', 'MX', 'US']</td>\n",
       "      <td>1</td>\n",
       "      <td>339533</td>\n",
       "      <td>...</td>\n",
       "      <td>1</td>\n",
       "      <td>0.0370</td>\n",
       "      <td>0.913000</td>\n",
       "      <td>0.00123</td>\n",
       "      <td>0.1030</td>\n",
       "      <td>0.310</td>\n",
       "      <td>82.641</td>\n",
       "      <td>https://api.spotify.com/v1/tracks/7urDSX97YCwD...</td>\n",
       "      <td>https://api.spotify.com/v1/audio-analysis/7urD...</td>\n",
       "      <td>4</td>\n",
       "    </tr>\n",
       "  </tbody>\n",
       "</table>\n",
       "<p>5 rows × 36 columns</p>\n",
       "</div>"
      ],
      "text/plain": [
       "     Name                        Title                  Artist  Sad/Happy  \\\n",
       "0  Jeremy                Human Sadness               The Voidz        NaN   \n",
       "1  Jeremy                Trailer Trash            Modest Mouse        NaN   \n",
       "2  Jeremy                       Heroes             David Bowie        NaN   \n",
       "3  Jeremy  I’m so lonesome I could cry           Hank Williams        NaN   \n",
       "4  Jeremy               Pale Blue Eyes  The Velvet Underground        NaN   \n",
       "\n",
       "  parent                                              album  \\\n",
       "0    NaN  {'album_type': 'album', 'artists': [{'external...   \n",
       "1    NaN  {'album_type': 'album', 'artists': [{'external...   \n",
       "2    NaN  {'album_type': 'album', 'artists': [{'external...   \n",
       "3    NaN  {'album_type': 'album', 'artists': [{'external...   \n",
       "4    NaN  {'album_type': 'album', 'artists': [{'external...   \n",
       "\n",
       "                                             artists  \\\n",
       "0  [{'external_urls': {'spotify': 'https://open.s...   \n",
       "1  [{'external_urls': {'spotify': 'https://open.s...   \n",
       "2  [{'external_urls': {'spotify': 'https://open.s...   \n",
       "3  [{'external_urls': {'spotify': 'https://open.s...   \n",
       "4  [{'external_urls': {'spotify': 'https://open.s...   \n",
       "\n",
       "                                   available_markets  disc_number  \\\n",
       "0  ['AD', 'AE', 'AR', 'AT', 'AU', 'BE', 'BG', 'BH...            1   \n",
       "1  ['AD', 'AE', 'AR', 'AT', 'BE', 'BG', 'BH', 'BO...            1   \n",
       "2  ['AD', 'AE', 'AR', 'AT', 'AU', 'BE', 'BG', 'BH...            1   \n",
       "3                                 ['CA', 'MX', 'US']            1   \n",
       "4                                 ['CA', 'MX', 'US']            1   \n",
       "\n",
       "   duration_ms       ...        mode speechiness acousticness  \\\n",
       "0       656836       ...           1      0.0469     0.220000   \n",
       "1       349600       ...           1      0.0347     0.076400   \n",
       "2       371413       ...           1      0.0297     0.000671   \n",
       "3       169067       ...           1      0.0304     0.812000   \n",
       "4       339533       ...           1      0.0370     0.913000   \n",
       "\n",
       "  instrumentalness liveness  valence    tempo  \\\n",
       "0          0.80800   0.1130    0.132  121.623   \n",
       "1          0.00522   0.0618    0.714  163.619   \n",
       "2          0.48400   0.0920    0.435  112.114   \n",
       "3          0.00236   0.3440    0.369  112.033   \n",
       "4          0.00123   0.1030    0.310   82.641   \n",
       "\n",
       "                                          track_href  \\\n",
       "0  https://api.spotify.com/v1/tracks/2avCzL6HtaJ5...   \n",
       "1  https://api.spotify.com/v1/tracks/0WkhmPY4bLSi...   \n",
       "2  https://api.spotify.com/v1/tracks/7Jh1bpe76CNT...   \n",
       "3  https://api.spotify.com/v1/tracks/4tj7IsJrn4Mv...   \n",
       "4  https://api.spotify.com/v1/tracks/7urDSX97YCwD...   \n",
       "\n",
       "                                        analysis_url  time_signature  \n",
       "0  https://api.spotify.com/v1/audio-analysis/2avC...               4  \n",
       "1  https://api.spotify.com/v1/audio-analysis/0Wkh...               4  \n",
       "2  https://api.spotify.com/v1/audio-analysis/7Jh1...               4  \n",
       "3  https://api.spotify.com/v1/audio-analysis/4tj7...               3  \n",
       "4  https://api.spotify.com/v1/audio-analysis/7urD...               4  \n",
       "\n",
       "[5 rows x 36 columns]"
      ]
     },
     "execution_count": 26,
     "metadata": {},
     "output_type": "execute_result"
    }
   ],
   "source": [
    "#Read in test data. Notice that there is no emotional sentiment yet. \n",
    "test_df = pd.read_csv(\"test_data.csv\")\n",
    "test_df = test_df.drop(columns='Unnamed: 0')\n",
    "test_df.head()"
   ]
  },
  {
   "cell_type": "markdown",
   "metadata": {},
   "source": [
    "Now we generate the playlist..."
   ]
  },
  {
   "cell_type": "code",
   "execution_count": 27,
   "metadata": {},
   "outputs": [
    {
     "name": "stdout",
     "output_type": "stream",
     "text": [
      "Title:  Human Sadness\n",
      "Artist: The Voidz\n",
      "Emotional Sentiment: S\n",
      "\n",
      "Title:  Trailer Trash\n",
      "Artist: Modest Mouse\n",
      "Emotional Sentiment: H\n",
      "\n",
      "Title:  Heroes\n",
      "Artist: David Bowie\n",
      "Emotional Sentiment: H\n",
      "\n",
      "Title:  I’m so lonesome I could cry\n",
      "Artist: Hank Williams\n",
      "Emotional Sentiment: S\n",
      "\n",
      "Title:  Pale Blue Eyes\n",
      "Artist: The Velvet Underground\n",
      "Emotional Sentiment: S\n",
      "\n",
      "Title:  Folsom Prison Blues\n",
      "Artist: Johnny Cash\n",
      "Emotional Sentiment: H\n",
      "\n",
      "Title:  Fell in Love with a girl\n",
      "Artist: The White Stripes\n",
      "Emotional Sentiment: S\n",
      "\n",
      "Title:  Girlfriend\n",
      "Artist: Ty Segall\n",
      "Emotional Sentiment: S\n",
      "\n",
      "Title:  Nerve Jamming\n",
      "Artist: Bass Drum Of Death\n",
      "Emotional Sentiment: S\n",
      "\n",
      "Title:  Some Things Last a long time\n",
      "Artist: Daniel Johnston\n",
      "Emotional Sentiment: S\n",
      "\n",
      "Title:  One\n",
      "Artist: Harry Nilsson\n",
      "Emotional Sentiment: S\n",
      "\n",
      "Title:  Get Found\n",
      "Artist: Bass Drum of Death\n",
      "Emotional Sentiment: S\n",
      "\n",
      "Title:  Zond\n",
      "Artist: Pond\n",
      "Emotional Sentiment: H\n",
      "\n",
      "Title:  Ladies Of Cambridge\n",
      "Artist: Vampire Weekend\n",
      "Emotional Sentiment: H\n",
      "\n",
      "Title:  Near Wild Heaven\n",
      "Artist: R.E.M.\n",
      "Emotional Sentiment: H\n",
      "\n",
      "Title:  You Turn Me On\n",
      "Artist: George Morgan\n",
      "Emotional Sentiment: S\n",
      "\n",
      "Title:  No Man's Land\n",
      "Artist: Syd Barrett\n",
      "Emotional Sentiment: S\n",
      "\n",
      "Title:  Stroker's Theme\n",
      "Artist: The Charlie Daniels Band\n",
      "Emotional Sentiment: S\n",
      "\n",
      "Title:  Chemical Warfare\n",
      "Artist: Dead Kennedys\n",
      "Emotional Sentiment: H\n",
      "\n",
      "Title:  Fall In\n",
      "Artist: Cloud Nothings\n",
      "Emotional Sentiment: H\n",
      "\n",
      "Title:  Acid Rain\n",
      "Artist: The Spits\n",
      "Emotional Sentiment: H\n",
      "\n",
      "Title:  Flaming Home\n",
      "Artist: Mount Eerie\n",
      "Emotional Sentiment: S\n",
      "\n",
      "Title:  Morpha Too\n",
      "Artist: Big Star\n",
      "Emotional Sentiment: S\n",
      "\n",
      "Title:  Orpheus Under the Influence\n",
      "Artist: The Buttertones\n",
      "Emotional Sentiment: H\n",
      "\n"
     ]
    }
   ],
   "source": [
    "pred = model.predict(test_df[features])\n",
    "i = 0\n",
    "for prediction in pred:\n",
    "    print(\"Title:  {}\\nArtist: {}\\nEmotional Sentiment: {}\\n\".format(test_df[\"Title\"][i],test_df[\"Artist\"][i], prediction))\n",
    "    i+=1"
   ]
  }
 ],
 "metadata": {
  "kernelspec": {
   "display_name": "Python 3",
   "language": "python",
   "name": "python3"
  },
  "language_info": {
   "codemirror_mode": {
    "name": "ipython",
    "version": 3
   },
   "file_extension": ".py",
   "mimetype": "text/x-python",
   "name": "python",
   "nbconvert_exporter": "python",
   "pygments_lexer": "ipython3",
   "version": "3.6.8"
  }
 },
 "nbformat": 4,
 "nbformat_minor": 2
}
